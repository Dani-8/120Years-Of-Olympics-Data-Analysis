{
 "cells": [
  {
   "cell_type": "code",
   "execution_count": null,
   "id": "55b64266-7e64-449d-b89f-9a4a77a98118",
   "metadata": {},
   "outputs": [],
   "source": []
  }
 ],
 "metadata": {
  "kernelspec": {
   "display_name": "",
   "name": ""
  },
  "language_info": {
   "name": ""
  }
 },
 "nbformat": 4,
 "nbformat_minor": 5
}
